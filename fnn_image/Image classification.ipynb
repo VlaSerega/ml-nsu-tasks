{
 "cells": [
  {
   "cell_type": "code",
   "execution_count": 1,
   "id": "38274c75",
   "metadata": {},
   "outputs": [
    {
     "name": "stderr",
     "output_type": "stream",
     "text": [
      "2023-05-28 22:50:39.919216: I tensorflow/core/platform/cpu_feature_guard.cc:182] This TensorFlow binary is optimized to use available CPU instructions in performance-critical operations.\n",
      "To enable the following instructions: AVX2 FMA, in other operations, rebuild TensorFlow with the appropriate compiler flags.\n",
      "2023-05-28 22:50:45.424412: W tensorflow/compiler/tf2tensorrt/utils/py_utils.cc:38] TF-TRT Warning: Could not find TensorRT\n"
     ]
    }
   ],
   "source": [
    "import warnings \n",
    "warnings.filterwarnings('ignore')\n",
    "\n",
    "# basic librareis\n",
    "import zipfile\n",
    "import glob\n",
    "import os\n",
    "import pandas as pd\n",
    "import numpy as np\n",
    "from PIL import Image\n",
    "\n",
    "\n",
    "# plotting and visualizations\n",
    "import matplotlib \n",
    "import matplotlib.pyplot as plt \n",
    "%matplotlib inline\n",
    "import seaborn as sns \n",
    "import missingno as msno\n",
    "\n",
    "# preprocessing\n",
    "from keras.preprocessing.image import ImageDataGenerator\n",
    "from tensorflow.keras.utils import img_to_array, array_to_img, load_img\n",
    "\n",
    "from sklearn.model_selection import train_test_split\n",
    "\n",
    "# metrics\n",
    "from sklearn.metrics import (confusion_matrix, \n",
    "                             classification_report, \n",
    "                             accuracy_score, \n",
    "                             f1_score, \n",
    "                             roc_auc_score)\n",
    "# modeling\n",
    "import tensorflow as tf\n",
    "from keras.models import Model,Sequential\n",
    "from keras.layers import Conv2D, MaxPooling2D, Dropout, Dense,Flatten\n",
    "\n",
    "from keras.applications.resnet import ResNet50\n",
    "from keras.applications.resnet import preprocess_input\n",
    "from keras import optimizers\n",
    "from keras import regularizers\n",
    "from keras.callbacks import EarlyStopping,LearningRateScheduler\n",
    "\n",
    "\n",
    "from keras import backend as K\n",
    "K.clear_session()\n",
    "\n",
    "# model plotting\n",
    "from IPython.display import SVG\n",
    "from keras.utils.vis_utils import model_to_dot\n",
    "from keras.utils import plot_model\n",
    "\n",
    "# mesc\n",
    "from sklearn.utils import shuffle"
   ]
  },
  {
   "cell_type": "code",
   "execution_count": 2,
   "id": "8152124b",
   "metadata": {},
   "outputs": [
    {
     "name": "stdout",
     "output_type": "stream",
     "text": [
      "2 files found in the input directory\n",
      "\n",
      "train.zip is extracted\n",
      "\n",
      "test1.zip is extracted\n",
      "\n",
      "Extraction is completed\n",
      "\n"
     ]
    }
   ],
   "source": [
    "# Extracting the data from dataset\n",
    "zip_files = glob.glob('./*.zip')\n",
    "\n",
    "print('{} files found in the input directory'.format(str(len(zip_files))) +'\\n')\n",
    "for file in zip_files:\n",
    "    with zipfile.ZipFile(file, 'r') as Z:\n",
    "        Z.extractall('data')\n",
    "    print ('{} is extracted'.format(file.split('/')[-1]) + '\\n')\n",
    "      \n",
    "print('Extraction is completed'+ '\\n')"
   ]
  },
  {
   "cell_type": "code",
   "execution_count": 3,
   "id": "30c68bd1",
   "metadata": {},
   "outputs": [],
   "source": [
    "train_dir = 'data/train/'\n",
    "test_dir  = 'data/test1/'"
   ]
  },
  {
   "cell_type": "code",
   "execution_count": 4,
   "id": "0ba635de",
   "metadata": {},
   "outputs": [
    {
     "name": "stdout",
     "output_type": "stream",
     "text": [
      "\n",
      "Image data is storing into dataframes...\n",
      "\n"
     ]
    }
   ],
   "source": [
    "def category(path): \n",
    "    return [file.split('.')[0] for file in os.listdir(path)]\n",
    "\n",
    "def filename(path):\n",
    "    return [file for file in os.listdir(path)]\n",
    "\n",
    "# image names and labels\n",
    "x_train_imgname = filename(train_dir) \n",
    "x_test_imgname = filename(test_dir)\n",
    "y_train_label = category(train_dir)\n",
    "\n",
    "#creation of total dataframe and submission dataframe\n",
    "print( '\\n' + 'Image data is storing into dataframes...' + '\\n')\n",
    "train_image_df = pd.DataFrame({ 'filename': x_train_imgname, 'category': y_train_label})\n",
    "submission_image_df = pd.DataFrame({'filename': x_test_imgname})"
   ]
  },
  {
   "cell_type": "code",
   "execution_count": 5,
   "id": "3001fb22",
   "metadata": {},
   "outputs": [
    {
     "name": "stdout",
     "output_type": "stream",
     "text": [
      "\n",
      "Number of Training Images: 19200\n",
      "\n",
      "Number of Validating Images: 4800\n",
      "\n",
      "Number of Holdon Images: 1000\n",
      "\n",
      "Number of Testing Images: 12500\n"
     ]
    }
   ],
   "source": [
    "train_valid_df, test_df = train_test_split(train_image_df, test_size = 0.04)\n",
    "train_df, valid_df = train_test_split(train_valid_df, test_size = 0.2)\n",
    "\n",
    "train_images = train_df.shape[0]\n",
    "valid_images = valid_df.shape[0]\n",
    "holdon_images = test_df.shape[0]\n",
    "test_images = submission_image_df.shape[0]\n",
    "\n",
    "print('\\n' + 'Number of Training Images: ' + str(train_images))\n",
    "print('\\n' + 'Number of Validating Images: ' + str(valid_images))\n",
    "print('\\n' + 'Number of Holdon Images: ' + str(holdon_images))\n",
    "print('\\n' + 'Number of Testing Images: ' + str(test_images))"
   ]
  },
  {
   "cell_type": "code",
   "execution_count": 6,
   "id": "1a2324c7",
   "metadata": {},
   "outputs": [
    {
     "name": "stderr",
     "output_type": "stream",
     "text": [
      "2023-05-28 22:51:20.833839: I tensorflow/compiler/xla/stream_executor/cuda/cuda_gpu_executor.cc:996] successful NUMA node read from SysFS had negative value (-1), but there must be at least one NUMA node, so returning NUMA node zero. See more at https://github.com/torvalds/linux/blob/v6.0/Documentation/ABI/testing/sysfs-bus-pci#L344-L355\n",
      "2023-05-28 22:51:21.872979: W tensorflow/core/common_runtime/gpu/gpu_device.cc:1956] Cannot dlopen some GPU libraries. Please make sure the missing libraries mentioned above are installed properly if you would like to use GPU. Follow the guide at https://www.tensorflow.org/install/gpu for how to download and setup the required libraries for your platform.\n",
      "Skipping registering GPU devices...\n"
     ]
    },
    {
     "name": "stdout",
     "output_type": "stream",
     "text": [
      "Model: \"sequential\"\n",
      "_________________________________________________________________\n",
      " Layer (type)                Output Shape              Param #   \n",
      "=================================================================\n",
      " conv2d (Conv2D)             (None, 224, 224, 16)      448       \n",
      "                                                                 \n",
      " conv2d_1 (Conv2D)           (None, 224, 224, 16)      2320      \n",
      "                                                                 \n",
      " max_pooling2d (MaxPooling2D  (None, 112, 112, 16)     0         \n",
      " )                                                               \n",
      "                                                                 \n",
      " conv2d_2 (Conv2D)           (None, 112, 112, 32)      4640      \n",
      "                                                                 \n",
      " conv2d_3 (Conv2D)           (None, 112, 112, 32)      9248      \n",
      "                                                                 \n",
      " max_pooling2d_1 (MaxPooling  (None, 56, 56, 32)       0         \n",
      " 2D)                                                             \n",
      "                                                                 \n",
      " conv2d_4 (Conv2D)           (None, 56, 56, 64)        18496     \n",
      "                                                                 \n",
      " conv2d_5 (Conv2D)           (None, 56, 56, 64)        36928     \n",
      "                                                                 \n",
      " max_pooling2d_2 (MaxPooling  (None, 28, 28, 64)       0         \n",
      " 2D)                                                             \n",
      "                                                                 \n",
      " conv2d_6 (Conv2D)           (None, 28, 28, 128)       73856     \n",
      "                                                                 \n",
      " conv2d_7 (Conv2D)           (None, 28, 28, 128)       147584    \n",
      "                                                                 \n",
      " max_pooling2d_3 (MaxPooling  (None, 14, 14, 128)      0         \n",
      " 2D)                                                             \n",
      "                                                                 \n",
      " dropout (Dropout)           (None, 14, 14, 128)       0         \n",
      "                                                                 \n",
      " conv2d_8 (Conv2D)           (None, 14, 14, 256)       295168    \n",
      "                                                                 \n",
      " conv2d_9 (Conv2D)           (None, 14, 14, 256)       590080    \n",
      "                                                                 \n",
      " max_pooling2d_4 (MaxPooling  (None, 7, 7, 256)        0         \n",
      " 2D)                                                             \n",
      "                                                                 \n",
      " dropout_1 (Dropout)         (None, 7, 7, 256)         0         \n",
      "                                                                 \n",
      " flatten (Flatten)           (None, 12544)             0         \n",
      "                                                                 \n",
      " dense (Dense)               (None, 512)               6423040   \n",
      "                                                                 \n",
      " dropout_2 (Dropout)         (None, 512)               0         \n",
      "                                                                 \n",
      " dense_1 (Dense)             (None, 2)                 1026      \n",
      "                                                                 \n",
      "=================================================================\n",
      "Total params: 7,602,834\n",
      "Trainable params: 7,602,834\n",
      "Non-trainable params: 0\n",
      "_________________________________________________________________\n"
     ]
    }
   ],
   "source": [
    "vani_model = Sequential()\n",
    "vani_model.add(Conv2D(16, (3,3), activation = 'relu', padding = 'same', input_shape = (224,224,3)))\n",
    "vani_model.add(Conv2D(16, (3,3), activation = 'relu', padding = 'same'))\n",
    "vani_model.add(MaxPooling2D(pool_size = (2,2), strides=(2,2)))\n",
    "\n",
    "vani_model.add(Conv2D(32, (3,3), activation = 'relu', padding = 'same'))\n",
    "vani_model.add(Conv2D(32, (3,3), activation = 'relu', padding = 'same'))\n",
    "vani_model.add(MaxPooling2D(pool_size = (2,2), strides=(2,2)))\n",
    "\n",
    "vani_model.add(Conv2D(64, (3,3), activation = 'relu', padding = 'same'))\n",
    "vani_model.add(Conv2D(64, (3,3), activation = 'relu', padding = 'same'))\n",
    "vani_model.add(MaxPooling2D(pool_size = (2,2),strides=(2,2)))\n",
    "\n",
    "vani_model.add(Conv2D(128, (3,3), activation = 'relu', padding = 'same'))\n",
    "vani_model.add(Conv2D(128, (3,3), activation = 'relu', padding = 'same'))\n",
    "vani_model.add(MaxPooling2D(pool_size = (2,2),strides=(2,2)))\n",
    "\n",
    "vani_model.add(Dropout(0.3))\n",
    "\n",
    "vani_model.add(Conv2D(256, (3,3), activation = 'relu', padding = 'same'))\n",
    "vani_model.add(Conv2D(256, (3,3), activation = 'relu', padding = 'same'))\n",
    "vani_model.add(MaxPooling2D(pool_size = (2,2),strides=(2,2)))\n",
    "\n",
    "vani_model.add(Dropout(0.3))\n",
    "\n",
    "vani_model.add(Flatten())\n",
    "\n",
    "vani_model.add(Dense(512, activation = 'relu'))\n",
    "\n",
    "vani_model.add(Dropout(0.5))\n",
    "\n",
    "vani_model.add(Dense(2, activation = 'softmax'))\n",
    "vani_model.summary()"
   ]
  },
  {
   "cell_type": "code",
   "execution_count": 7,
   "id": "9bd9a5fb",
   "metadata": {},
   "outputs": [
    {
     "name": "stdout",
     "output_type": "stream",
     "text": [
      "You must install pydot (`pip install pydot`) and install graphviz (see instructions at https://graphviz.gitlab.io/download/) for plot_model to work.\n"
     ]
    }
   ],
   "source": [
    "plot_model(vani_model, show_shapes = True,expand_nested = True,dpi = 80)"
   ]
  },
  {
   "cell_type": "code",
   "execution_count": 8,
   "id": "2ea198e8",
   "metadata": {},
   "outputs": [
    {
     "name": "stdout",
     "output_type": "stream",
     "text": [
      "Found 19200 validated image filenames belonging to 2 classes.\n",
      "Found 4800 validated image filenames belonging to 2 classes.\n",
      "Found 1000 validated image filenames.\n"
     ]
    }
   ],
   "source": [
    "img_size = 224\n",
    "batch_size = 128\n",
    "\n",
    "train_map = ImageDataGenerator()\n",
    "valid_map = ImageDataGenerator()\n",
    "test_map =  ImageDataGenerator()\n",
    "\n",
    "vani_train_data = train_map.flow_from_dataframe(\n",
    "            train_df,train_dir,\n",
    "            x_col = 'filename',\n",
    "            y_col = 'category',\n",
    "            target_size = (img_size, img_size),\n",
    "            batch_size = batch_size,\n",
    "            class_mode = 'categorical')\n",
    "\n",
    "vani_valid_data = valid_map.flow_from_dataframe(\n",
    "             valid_df, train_dir,\n",
    "             x_col = 'filename',\n",
    "             y_col = 'category',\n",
    "             target_size = (img_size, img_size),\n",
    "             batch_size = batch_size,\n",
    "             class_mode = 'categorical')\n",
    "\n",
    "\n",
    "vani_test_data = test_map.flow_from_dataframe(\n",
    "             test_df, train_dir,\n",
    "             x_col = 'filename',\n",
    "             y_col = None,\n",
    "             target_size = (img_size, img_size),\n",
    "             batch_size = batch_size,\n",
    "             class_mode = None,\n",
    "             shuffle = False)"
   ]
  },
  {
   "cell_type": "code",
   "execution_count": 9,
   "id": "485c7eff",
   "metadata": {},
   "outputs": [
    {
     "name": "stderr",
     "output_type": "stream",
     "text": [
      "2023-05-28 22:51:24.188207: I tensorflow/core/common_runtime/executor.cc:1197] [/device:CPU:0] (DEBUG INFO) Executor start aborting (this does not indicate an error and you can ignore this message): INVALID_ARGUMENT: You must feed a value for placeholder tensor 'Placeholder/_0' with dtype int32\n",
      "\t [[{{node Placeholder/_0}}]]\n"
     ]
    },
    {
     "name": "stdout",
     "output_type": "stream",
     "text": [
      "Epoch 1/8\n",
      "150/150 [==============================] - ETA: 0s - loss: 0.7867 - accuracy: 0.5442"
     ]
    },
    {
     "name": "stderr",
     "output_type": "stream",
     "text": [
      "2023-05-28 23:16:26.452292: I tensorflow/core/common_runtime/executor.cc:1197] [/device:CPU:0] (DEBUG INFO) Executor start aborting (this does not indicate an error and you can ignore this message): INVALID_ARGUMENT: You must feed a value for placeholder tensor 'Placeholder/_0' with dtype int32\n",
      "\t [[{{node Placeholder/_0}}]]\n"
     ]
    },
    {
     "name": "stdout",
     "output_type": "stream",
     "text": [
      "150/150 [==============================] - 1571s 10s/step - loss: 0.7867 - accuracy: 0.5442 - val_loss: 0.6391 - val_accuracy: 0.6098\n",
      "Epoch 2/8\n",
      "150/150 [==============================] - 1563s 10s/step - loss: 0.6085 - accuracy: 0.6559 - val_loss: 0.5502 - val_accuracy: 0.7179\n",
      "Epoch 3/8\n",
      "150/150 [==============================] - 1575s 10s/step - loss: 0.5391 - accuracy: 0.7251 - val_loss: 0.5148 - val_accuracy: 0.7439\n",
      "Epoch 4/8\n",
      "150/150 [==============================] - 1570s 10s/step - loss: 0.4991 - accuracy: 0.7571 - val_loss: 0.4656 - val_accuracy: 0.7834\n",
      "Epoch 5/8\n",
      "150/150 [==============================] - 1567s 10s/step - loss: 0.4567 - accuracy: 0.7866 - val_loss: 0.4799 - val_accuracy: 0.7673\n",
      "Epoch 6/8\n",
      "150/150 [==============================] - 1563s 10s/step - loss: 0.4263 - accuracy: 0.8044 - val_loss: 0.4098 - val_accuracy: 0.8159\n",
      "Epoch 7/8\n",
      "150/150 [==============================] - 1569s 10s/step - loss: 0.3832 - accuracy: 0.8284 - val_loss: 0.3755 - val_accuracy: 0.8370\n",
      "Epoch 8/8\n",
      "150/150 [==============================] - 1568s 10s/step - loss: 0.3590 - accuracy: 0.8441 - val_loss: 0.3385 - val_accuracy: 0.8530\n"
     ]
    }
   ],
   "source": [
    "loss = 'categorical_crossentropy'\n",
    "opt = tf.keras.optimizers.Adam(learning_rate= 0.0001,beta_1=0.9, beta_2=0.999,epsilon=1e-07)\n",
    "metrics = ['accuracy']\n",
    "\n",
    "vani_model.compile(loss = loss, optimizer = opt, metrics = metrics)\n",
    "vani_history = vani_model.fit(vani_train_data, epochs = 8,\n",
    "                          validation_data = vani_valid_data,\n",
    "                          validation_steps= valid_images//batch_size,\n",
    "                          steps_per_epoch= train_images//batch_size)"
   ]
  },
  {
   "cell_type": "code",
   "execution_count": 11,
   "id": "f8b76dee",
   "metadata": {},
   "outputs": [
    {
     "name": "stderr",
     "output_type": "stream",
     "text": [
      "2023-05-28 19:33:15.052999: I tensorflow/core/common_runtime/executor.cc:1197] [/device:CPU:0] (DEBUG INFO) Executor start aborting (this does not indicate an error and you can ignore this message): INVALID_ARGUMENT: You must feed a value for placeholder tensor 'Placeholder/_0' with dtype int32\n",
      "\t [[{{node Placeholder/_0}}]]\n"
     ]
    }
   ],
   "source": [
    "from sklearn.metrics import confusion_matrix\n",
    "\n",
    "\n",
    "vani_pred = vani_model.predict_generator(vani_test_data)\n",
    "test_df['vani_pred'] = np.argmax(vani_pred, axis = -1)\n",
    "labels = dict((v,k) for k,v in vani_train_data.class_indices.items())\n",
    "\n",
    "test_df['vani_pred'] = test_df['vani_pred'].map(labels)\n",
    "\n",
    "vani_cf_matrix = confusion_matrix(test_df['category'],test_df['vani_pred'])"
   ]
  },
  {
   "cell_type": "code",
   "execution_count": 16,
   "id": "df1f3cd4",
   "metadata": {},
   "outputs": [
    {
     "data": {
      "image/png": "[encoded data removed]",
      "text/plain": [
       "<Figure size 640x480 with 2 Axes>"
      ]
     },
     "metadata": {},
     "output_type": "display_data"
    }
   ],
   "source": [
    "from sklearn.metrics import ConfusionMatrixDisplay\n",
    "\n",
    "disp = ConfusionMatrixDisplay(confusion_matrix=vani_cf_matrix, display_labels=labels)\n",
    "disp.plot()\n",
    "plt.show()"
   ]
  },
  {
   "cell_type": "code",
   "execution_count": 15,
   "id": "782be76c",
   "metadata": {},
   "outputs": [
    {
     "data": {
      "text/plain": [
       "{0: 'cat', 1: 'dog'}"
      ]
     },
     "execution_count": 15,
     "metadata": {},
     "output_type": "execute_result"
    }
   ],
   "source": [
    "labels"
   ]
  },
  {
   "cell_type": "code",
   "execution_count": null,
   "id": "ae36a428",
   "metadata": {},
   "outputs": [],
   "source": []
  }
 ],
 "metadata": {
  "kernelspec": {
   "display_name": "Python 3 (ipykernel)",
   "language": "python",
   "name": "python3"
  },
  "language_info": {
   "codemirror_mode": {
    "name": "ipython",
    "version": 3
   },
   "file_extension": ".py",
   "mimetype": "text/x-python",
   "name": "python",
   "nbconvert_exporter": "python",
   "pygments_lexer": "ipython3",
   "version": "3.8.10"
  }
 },
 "nbformat": 4,
 "nbformat_minor": 5
}
